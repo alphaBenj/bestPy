{
 "cells": [
  {
   "cell_type": "markdown",
   "metadata": {},
   "source": [
    "# CHAPTER 4\n",
    "## 4.3 Algorithms: Truncated SVD\n",
    "The second main algorithm implemented in `bestPy` is _truncated singular-value decomposition_ (SVD). Briefly, the underlying assumption of this algorithm is that there exists, in fact, a relatively small number of hidden features (or _factors_) that characterize each article. Each cutomer is, in turn, charaterized by preferences for each of these factors. We do not know what they are and neither do we need to. All we need to do is to chose how many there are of them. The number of hidden (or _latent_) factors is thus the main parameter of the algorithm. Too few and we cannot fully express the details of cutomer preferences, too many and we will end up recommending only articles that the customer has already bought.\n",
    "\n",
    "But enough theory for now. Let's dive right in and see how it works.\n",
    "\n",
    "\n",
    "### Preliminaries\n",
    "We only need this because the examples folder is a subdirectory of the `bestPy` package."
   ]
  },
  {
   "cell_type": "code",
   "execution_count": 1,
   "metadata": {
    "collapsed": true
   },
   "outputs": [],
   "source": [
    "import sys\n",
    "sys.path.append('../..')"
   ]
  },
  {
   "cell_type": "markdown",
   "metadata": {},
   "source": [
    "### Imports, logging, and data\n",
    "On top of doing the things we already know, we now import the `TruncatedSVD` algorithm, which is (surprise!) accessible through the `bestPy.algorithms` subpackage."
   ]
  },
  {
   "cell_type": "code",
   "execution_count": 2,
   "metadata": {
    "collapsed": true
   },
   "outputs": [],
   "source": [
    "from bestPy import write_log_to\n",
    "from bestPy.datastructures import Transactions\n",
    "from bestPy.algorithms import TruncatedSVD  # Import TruncatedSVD\n",
    "\n",
    "logfile = 'logfile.txt'\n",
    "write_log_to(logfile, 20)\n",
    "\n",
    "file = 'examples_data.csv'\n",
    "data = Transactions.from_csv(file)"
   ]
  },
  {
   "cell_type": "markdown",
   "metadata": {},
   "source": [
    "### Creating a new `TruncatedSVD` object\n",
    "We already know how to do this. Let's not attach data to the algorhtm right away, though."
   ]
  },
  {
   "cell_type": "code",
   "execution_count": 3,
   "metadata": {},
   "outputs": [
    {
     "data": {
      "text/plain": [
       "False"
      ]
     },
     "execution_count": 3,
     "metadata": {},
     "output_type": "execute_result"
    }
   ],
   "source": [
    "algorithm = TruncatedSVD()\n",
    "algorithm.has_data"
   ]
  },
  {
   "cell_type": "markdown",
   "metadata": {},
   "source": [
    "### Parameters of the collaborative filtering algorithm\n",
    "\n",
    "Inspecting the new `algorithm` object with Tab completion again reveals `binarize` as a first attribute."
   ]
  },
  {
   "cell_type": "code",
   "execution_count": 4,
   "metadata": {},
   "outputs": [
    {
     "data": {
      "text/plain": [
       "True"
      ]
     },
     "execution_count": 4,
     "metadata": {},
     "output_type": "execute_result"
    }
   ],
   "source": [
    "algorithm.binarize"
   ]
  },
  {
   "cell_type": "markdown",
   "metadata": {},
   "source": [
    "It has the same meaning as in the baseline recommendation and in collaborative filtering: `True` means we only care whether or not a customer bought an article and `False` means we also take into account how often a customer bought an article.\n",
    "\n",
    "The second parameter is the number of latent factors described above."
   ]
  },
  {
   "cell_type": "code",
   "execution_count": 5,
   "metadata": {},
   "outputs": [
    {
     "data": {
      "text/plain": [
       "20"
      ]
     },
     "execution_count": 5,
     "metadata": {},
     "output_type": "execute_result"
    }
   ],
   "source": [
    "algorithm.number_of_factors"
   ]
  },
  {
   "cell_type": "markdown",
   "metadata": {},
   "source": [
    "If we don't like the default value, we can always set a different one."
   ]
  },
  {
   "cell_type": "code",
   "execution_count": 6,
   "metadata": {},
   "outputs": [
    {
     "data": {
      "text/plain": [
       "35"
      ]
     },
     "execution_count": 6,
     "metadata": {},
     "output_type": "execute_result"
    }
   ],
   "source": [
    "algorithm.number_of_factors = 35\n",
    "algorithm.number_of_factors"
   ]
  },
  {
   "cell_type": "markdown",
   "metadata": {},
   "source": [
    "Now, let's attach the data. Again relying on Tab completion, we see that the additional attribute `max_number_of_factors` magically appeared."
   ]
  },
  {
   "cell_type": "code",
   "execution_count": 7,
   "metadata": {},
   "outputs": [
    {
     "data": {
      "text/plain": [
       "8254"
      ]
     },
     "execution_count": 7,
     "metadata": {},
     "output_type": "execute_result"
    }
   ],
   "source": [
    "recommendation = algorithm.operating_on(data)\n",
    "recommendation.max_number_of_factors"
   ]
  },
  {
   "cell_type": "markdown",
   "metadata": {},
   "source": [
    "As the name implies this is the maximum number of latent factors that we can set. It turns out that we cannot choose more than the number of customers or the number of articles in our dataset, whichever is smaller."
   ]
  },
  {
   "cell_type": "code",
   "execution_count": 8,
   "metadata": {},
   "outputs": [
    {
     "name": "stdout",
     "output_type": "stream",
     "text": [
      "38747\n",
      "8255\n",
      "8255\n"
     ]
    }
   ],
   "source": [
    "print(data.user.count)\n",
    "print(data.item.count)\n",
    "print(data.matrix.min_shape)"
   ]
  },
  {
   "cell_type": "markdown",
   "metadata": {},
   "source": [
    "Obviously, we do not know this number _before_ we attached the data to the algorithm. So what happens if we first set it too large, say, to 8300?"
   ]
  },
  {
   "cell_type": "code",
   "execution_count": 9,
   "metadata": {},
   "outputs": [
    {
     "data": {
      "text/plain": [
       "8254"
      ]
     },
     "execution_count": 9,
     "metadata": {},
     "output_type": "execute_result"
    }
   ],
   "source": [
    "algorithm = TruncatedSVD()\n",
    "algorithm.number_of_factors = 8300\n",
    "recommendation = algorithm.operating_on(data)\n",
    "recommendation.number_of_factors"
   ]
  },
  {
   "cell_type": "markdown",
   "metadata": {},
   "source": [
    "Without making too much fuzz about it, the number of factors has been reset to the maximum allowed. All you see about this behind-the-scene magic is an additional line in the logfile.\n",
    "```\n",
    "[WARNING]: Requested 8300 latent features, but only 8254 available. Resetting to 8254. (truncatedsvd|__reset)\n",
    "```\n",
    "\n",
    "And that's it for the parameters of the truncated SVD algorithm.\n",
    "\n",
    "### Making a recommendation for a target customer\n",
    "Now that everything is set up and we have data attached to the algorithm, its `for_one()` method is available and can be called with the internal integer index of the target customer as argument. Before we do that, however, let's reset the number of latent factors to something meaningful. Set to the maximum, we are just recommending back to the customer what he or she has bought before."
   ]
  },
  {
   "cell_type": "code",
   "execution_count": 10,
   "metadata": {},
   "outputs": [
    {
     "data": {
      "text/plain": [
       "array([  1.38927510e-19,   2.15147560e-05,   3.58098535e-04, ...,\n",
       "        -3.22332684e-19,  -2.27175112e-19,   2.31783771e-19])"
      ]
     },
     "execution_count": 10,
     "metadata": {},
     "output_type": "execute_result"
    }
   ],
   "source": [
    "recommendation.number_of_factors = 35\n",
    "\n",
    "customer = data.user.index_of['5']\n",
    "recommendation.for_one(customer)"
   ]
  },
  {
   "cell_type": "markdown",
   "metadata": {},
   "source": [
    "And, voilà, your recommendation. Again, a higher number means that the article with the same index as that number is more highly recommended for the target customer. Feel free to play around with the number of factors and see what happens to the recommendation!\n",
    "\n",
    "This concludes our discussion ot the truncated SVD algorithm."
   ]
  },
  {
   "cell_type": "code",
   "execution_count": null,
   "metadata": {
    "collapsed": true
   },
   "outputs": [],
   "source": []
  }
 ],
 "metadata": {
  "kernelspec": {
   "display_name": "Python 3",
   "language": "python",
   "name": "python3"
  },
  "language_info": {
   "codemirror_mode": {
    "name": "ipython",
    "version": 3
   },
   "file_extension": ".py",
   "mimetype": "text/x-python",
   "name": "python",
   "nbconvert_exporter": "python",
   "pygments_lexer": "ipython3",
   "version": "3.6.0"
  }
 },
 "nbformat": 4,
 "nbformat_minor": 2
}
