{
 "cells": [
  {
   "cell_type": "markdown",
   "metadata": {},
   "source": [
    "# CHAPTER 8\n",
    "## Testing\n",
    "`bestPy` comes with an extensive suite of almost 500 tests to make sure all components of the software work as ecxpected, alone and together. These tests can be found in the `tests` subdirectory,  mirroring the directory structure of the modules they test.\n",
    "\n",
    "The easiest way to run these tests is to change into the parent directory of the `bestPy` package (wherever it is located) and execute\n",
    "```\n",
    "python -m unittest\n",
    "```\n",
    "on the command line. For a more verbose output, run\n",
    "```\n",
    "python -m unittest -v\n",
    "```\n",
    "instead. Of course, tests will only run if all required dependencies are installed, as specified in the `enivironment.yml` file.\n",
    "\n",
    "When runing the more verbose version, you will see that some tests are skipped because they _Could not connect to the test database_. Indeed, this test database (necessary to test reading from postgreSQL) is not part of the `bestPy` distribution.\n",
    "\n",
    "Finally, if you start hacking `bestPy` to implement you own readers, datastructures, and algorithms make it a habbit to write tests ever so slightly ahead of what you actually code (Greetings from _Uncle Bob_)!"
   ]
  },
  {
   "cell_type": "code",
   "execution_count": null,
   "metadata": {
    "collapsed": true
   },
   "outputs": [],
   "source": []
  }
 ],
 "metadata": {
  "kernelspec": {
   "display_name": "Python 3",
   "language": "python",
   "name": "python3"
  },
  "language_info": {
   "codemirror_mode": {
    "name": "ipython",
    "version": 3
   },
   "file_extension": ".py",
   "mimetype": "text/x-python",
   "name": "python",
   "nbconvert_exporter": "python",
   "pygments_lexer": "ipython3",
   "version": "3.6.0"
  }
 },
 "nbformat": 4,
 "nbformat_minor": 2
}
