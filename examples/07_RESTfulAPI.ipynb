{
 "cells": [
  {
   "cell_type": "markdown",
   "metadata": {},
   "source": [
    "# CHAPTER 7\n",
    "## RESTful API\n",
    "\n",
    "Now you know all about algorithms and how to benchmark them. Once you found the optimal algorithm and settings, however, what do you do with them?\n",
    "\n",
    "One common way to make your findings, that is, a number of articles most highly recommended for a given customer, accessible to those who need to know is to provide your recommendations as a software service. More specifically, your recommendations are served up by a webserver, typically in _JSON_ format and accessed by your clients _via_ a _RESTful API_.\n",
    "\n",
    "To see how that works, we first need to take care the serving-up part. This is what happens in the file `07_RESTfulAPI.py`, which is _not_ a `jupyter` notebook but a regular `python` script. So just open it in a text editor (or an IDE) to read the ample documentation and then execute it on the command line by typing\n",
    "```\n",
    "python 07_RESTfulAPI.py\n",
    "```\n",
    "on your shell prompt.\n",
    "\n",
    "You then have a web server running, which you can access in your browser _via_ the URL\n",
    "```\n",
    "http://localhost:<port>\n",
    "```\n",
    "where `<port>` is the number displayed on the command line once the server is up. Feel free to play around with what you see there. As usual, it pays off to keep an eye on the logfile to stay ahead of things.\n",
    "\n",
    "### The REST client\n",
    "Now that the server is running, we still need a client that accesses it and retrieves the recommendations. Having played around with the server in our webbrowser, we know exactly what we have to do to get what we want.\n",
    "#### Imports from the standard library"
   ]
  },
  {
   "cell_type": "code",
   "execution_count": 1,
   "metadata": {
    "collapsed": true
   },
   "outputs": [],
   "source": [
    "from urllib.parse import ParseResult\n",
    "from urllib.request import urlopen\n",
    "import json"
   ]
  },
  {
   "cell_type": "markdown",
   "metadata": {},
   "source": [
    "#### Setup\n",
    "First we assemble the URL pointing to where we will receive a JSON with some exemplary customer IDs."
   ]
  },
  {
   "cell_type": "code",
   "execution_count": 2,
   "metadata": {
    "collapsed": true
   },
   "outputs": [],
   "source": [
    "base_path = '/user/'\n",
    "base_query = 'n_recos='\n",
    "url_params = {'scheme': 'http',\n",
    "              'netloc': 'localhost:5002',\n",
    "              'path': base_path, \n",
    "              'params': '',\n",
    "              'query': 'n_recos=6',\n",
    "              'fragment': ''}\n",
    "rest = ParseResult(**url_params)"
   ]
  },
  {
   "cell_type": "markdown",
   "metadata": {},
   "source": [
    "#### Read and print customer IDs\n",
    "\n",
    "Then, we read a JSON from that URL and print what we got."
   ]
  },
  {
   "cell_type": "code",
   "execution_count": 3,
   "metadata": {},
   "outputs": [
    {
     "name": "stdout",
     "output_type": "stream",
     "text": [
      "User IDs retrieved from server\n",
      "==============================\n",
      "{'some user IDs': ['4', '1', '12', '11', '10', '7', '13', '16', '17', '19']}\n"
     ]
    }
   ],
   "source": [
    "with urlopen(rest.geturl()) as url:\n",
    "    users = json.loads(url.read())\n",
    "\n",
    "print('User IDs retrieved from server')\n",
    "print('==============================')\n",
    "print(users)"
   ]
  },
  {
   "cell_type": "markdown",
   "metadata": {},
   "source": [
    "#### Get recommendations for these users\n",
    "Now that we have some customer IDs, we specify below how many recommendations we want for each one, retrieve and print them.\n",
    "\n",
    "__Note__: If you want to do this again (because it is really cool, now, isnt't it), you can _not_ simply re-run the cell below. Instead, you will have to start all over again and execute all three cells(starting _below_ the imports, of course)."
   ]
  },
  {
   "cell_type": "code",
   "execution_count": 4,
   "metadata": {},
   "outputs": [
    {
     "name": "stdout",
     "output_type": "stream",
     "text": [
      "Recommendations for user 4\n",
      "===========================\n",
      "BL152EL85CRUALID-1814\n",
      "MA172TL16AQPANID-36449\n",
      "NE739EL91DUIANID-38875\n",
      "KI593EL69ASKANID-36520\n",
      "NE739EL06ORLANID-27491\n",
      "KI593EL68ASLANID-36521\n",
      "\n",
      "Recommendations for user 1\n",
      "===========================\n",
      "NE739EL91DUIANID-38875\n",
      "SO888EL82CKFALID-1617\n",
      "BL152EL67KCUALID-6832\n",
      "BL152EL92QAPANID-28441\n",
      "SA848EL74DPHALID-2425\n",
      "AP082EL01CFQALID-1498\n",
      "\n",
      "Recommendations for user 12\n",
      "===========================\n",
      "SA848EL55JGEALID-6244\n",
      "MA130HL31AQAANID-36434\n",
      "SA848EL74DPHALID-2425\n",
      "BL152EL67KCUALID-6832\n",
      "NO749EL20DJRALID-2279\n",
      "AP082EL03BMIALID-996\n",
      "\n",
      "Recommendations for user 11\n",
      "===========================\n",
      "VI962EL69EEWALID-2830\n",
      "SA848EL74DPHALID-2425\n",
      "MO721EL43DIUALID-2256\n",
      "NE739EL06ORLANID-27491\n",
      "AP082EL37CPUALID-1762\n",
      "NO749EL20DJRALID-2279\n",
      "\n",
      "Recommendations for user 10\n",
      "===========================\n",
      "MA130HL31AQAANID-36434\n",
      "SA848EL55JGEALID-6244\n",
      "NE739EL91DUIANID-38875\n",
      "AP082EL37CPUALID-1762\n",
      "SA848EL83DOYALID-2416\n",
      "BL152EL67KCUALID-6832\n",
      "\n",
      "Recommendations for user 7\n",
      "===========================\n",
      "AP082EL01CFQALID-1498\n",
      "NO749EL20DJRALID-2279\n",
      "DO274EL91APSALID-408\n",
      "BL152EL82CRXALID-1817\n",
      "SA848EL83DOYALID-2416\n",
      "AP082EL37CPUALID-1762\n",
      "\n",
      "Recommendations for user 13\n",
      "===========================\n",
      "SA848EL74DPHALID-2425\n",
      "AP082EL03BMIALID-996\n",
      "NO749EL20DJRALID-2279\n",
      "CA189EL29AGOALID-170\n",
      "SA848EL83DOYALID-2416\n",
      "NE739EL06ORLANID-27491\n",
      "\n",
      "Recommendations for user 16\n",
      "===========================\n",
      "MI183ME53QZEANID-29126\n",
      "SA395EL19ZEAANID-35321\n",
      "TA236HB95VBGANID-32327\n",
      "FU298HL77AKKANID-36272\n",
      "BE129EL00TOPANID-31206\n",
      "SA848EL74DPHALID-2425\n",
      "\n",
      "Recommendations for user 17\n",
      "===========================\n",
      "NO749EL20DJRALID-2279\n",
      "TE440HL28AXVANID-36669\n",
      "AP082EL37CPUALID-1762\n",
      "NE739EL06ORLANID-27491\n",
      "MA130HL29AQCANID-36436\n",
      "MA130HL31AQAANID-36434\n",
      "\n",
      "Recommendations for user 19\n",
      "===========================\n",
      "PH789EL03ATCALID-496\n",
      "NO749EL20DJRALID-2279\n",
      "AS100EL41BOSALID-1058\n",
      "WI981EL52EFNALID-2847\n",
      "OL756EL65HDYALID-4834\n",
      "VI962EL62EFDALID-2837\n",
      "\n"
     ]
    }
   ],
   "source": [
    "n_recos = 6  # Specify here how many recommendations you want for each customer!\n",
    "\n",
    "query = base_query + str(n_recos)\n",
    "rest = rest._replace(query=query)\n",
    "\n",
    "for user_id in users.pop('some user IDs'):\n",
    "    path = base_path + user_id\n",
    "    rest = rest._replace(path=path)\n",
    "    \n",
    "    with urlopen(rest.geturl()) as url:\n",
    "        list_of = json.loads(url.read())\n",
    "        \n",
    "    print('Recommendations for user', user_id)\n",
    "    print('===========================')\n",
    "    for article in list_of['recommended articles']:\n",
    "        print(article)\n",
    "    print()"
   ]
  },
  {
   "cell_type": "markdown",
   "metadata": {
    "collapsed": true
   },
   "source": [
    "Clearly the way to go, eh? Make sure to terminate the webserver (by pressing `Ctrl-C` on the command line) once you are done exploring and playing."
   ]
  },
  {
   "cell_type": "code",
   "execution_count": null,
   "metadata": {
    "collapsed": true
   },
   "outputs": [],
   "source": []
  }
 ],
 "metadata": {
  "kernelspec": {
   "display_name": "Python 3",
   "language": "python",
   "name": "python3"
  },
  "language_info": {
   "codemirror_mode": {
    "name": "ipython",
    "version": 3
   },
   "file_extension": ".py",
   "mimetype": "text/x-python",
   "name": "python",
   "nbconvert_exporter": "python",
   "pygments_lexer": "ipython3",
   "version": "3.6.0"
  }
 },
 "nbformat": 4,
 "nbformat_minor": 2
}
