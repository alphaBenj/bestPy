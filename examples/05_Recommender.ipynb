{
 "cells": [
  {
   "cell_type": "markdown",
   "metadata": {},
   "source": [
    "# CHAPTER 5\n",
    "## The Recommender\n",
    "Now that we got to know `bestPy`'s powerful algorithms, we cant't wait to use them, right? In trying to do so, however, we might realize that they are pretty bare-bone and inconvenient to handle. For example, we need to know the internally used integer index of a customer to get a preditiction for him/her instead of just getting a prediction for the customer ID. Likewise, we only get back an array of scores for each article and still have to search for the most highly recommended, still have to translate its index into an actual article ID, _etc._\n",
    "\n",
    "Taking all this burden off the user, who should focus on selecting and tweaking the algorithms, there is _The Recommender_.\n",
    "\n",
    "\n",
    "### Preliminaries\n",
    "We only need this because the examples folder is a subdirectory of the `bestPy` package."
   ]
  },
  {
   "cell_type": "code",
   "execution_count": 1,
   "metadata": {
    "collapsed": true
   },
   "outputs": [],
   "source": [
    "import sys\n",
    "sys.path.append('../..')"
   ]
  },
  {
   "cell_type": "markdown",
   "metadata": {},
   "source": [
    "### Imports, logging, and data\n",
    "On top of the basics, we still import the `Baseline` and the `TruncatedSVD` algorithm as an example, but now focus on _The Recommender_, which is accessible in the top-level package as `RecoBasedOn`."
   ]
  },
  {
   "cell_type": "code",
   "execution_count": 2,
   "metadata": {
    "collapsed": true
   },
   "outputs": [],
   "source": [
    "from bestPy import RecoBasedOn, write_log_to  # Additionally import RecoBasedOn\n",
    "from bestPy.datastructures import Transactions\n",
    "from bestPy.algorithms import Baseline, TruncatedSVD  # Import Baseline and TruncatedSVD as examplary algorithm\n",
    "\n",
    "logfile = 'logfile.txt'\n",
    "write_log_to(logfile, 20)\n",
    "\n",
    "file = 'examples_data.csv'\n",
    "data = Transactions.from_csv(file)"
   ]
  },
  {
   "cell_type": "markdown",
   "metadata": {},
   "source": [
    "### Creating a new `RecoBasedOn` object\n",
    "We will see different ways of doing this further down but, for now, all we need is data in the form of a `Transactions` instance."
   ]
  },
  {
   "cell_type": "code",
   "execution_count": 3,
   "metadata": {
    "collapsed": true
   },
   "outputs": [],
   "source": [
    "recommendation = RecoBasedOn(data)"
   ]
  },
  {
   "cell_type": "markdown",
   "metadata": {},
   "source": [
    "### Parameters of _The Recommender_ object\n",
    "\n",
    "Inspecting the new `recommendation` object with Tab completion reveals an `algorithm` attribute as the first entry."
   ]
  },
  {
   "cell_type": "code",
   "execution_count": 4,
   "metadata": {},
   "outputs": [
    {
     "data": {
      "text/plain": [
       "'CollaborativeFiltering'"
      ]
     },
     "execution_count": 4,
     "metadata": {},
     "output_type": "execute_result"
    }
   ],
   "source": [
    "recommendation.algorithm"
   ]
  },
  {
   "cell_type": "markdown",
   "metadata": {},
   "source": [
    "This is the default algorithm.\n",
    "\n",
    "__IMPORTANT__: If we wanted a different algorithm, say truncated SVD, we don't simply set it, but we call the method `using()` instead, like so:"
   ]
  },
  {
   "cell_type": "code",
   "execution_count": 5,
   "metadata": {},
   "outputs": [
    {
     "data": {
      "text/plain": [
       "'TruncatedSVD'"
      ]
     },
     "execution_count": 5,
     "metadata": {},
     "output_type": "execute_result"
    }
   ],
   "source": [
    "algorithm = TruncatedSVD()\n",
    "algorithm.number_of_factors = 24\n",
    "algorithm.binarize = False\n",
    "\n",
    "recommendation = recommendation.using(algorithm)\n",
    "recommendation.algorithm"
   ]
  },
  {
   "cell_type": "markdown",
   "metadata": {},
   "source": [
    "No need to first attach data to the algorithm. _The recommender_ does that or us."
   ]
  },
  {
   "cell_type": "code",
   "execution_count": 6,
   "metadata": {},
   "outputs": [
    {
     "data": {
      "text/plain": [
       "True"
      ]
     },
     "execution_count": 6,
     "metadata": {},
     "output_type": "execute_result"
    }
   ],
   "source": [
    "algorithm.has_data"
   ]
  },
  {
   "cell_type": "markdown",
   "metadata": {},
   "source": [
    "Next up is the `baseline` attrribute. As maybe expected, it tells us that our `Baseline` algorithm is part of _The Recommender_."
   ]
  },
  {
   "cell_type": "code",
   "execution_count": 7,
   "metadata": {},
   "outputs": [
    {
     "data": {
      "text/plain": [
       "'Baseline'"
      ]
     },
     "execution_count": 7,
     "metadata": {},
     "output_type": "execute_result"
    }
   ],
   "source": [
    "recommendation.baseline"
   ]
  },
  {
   "cell_type": "markdown",
   "metadata": {},
   "source": [
    "We need it in order to make recommendations also to new cutomers, who do not have a purchase history yet. As opposed to the algorithm, the baseline can be simply set as expected."
   ]
  },
  {
   "cell_type": "code",
   "execution_count": 8,
   "metadata": {},
   "outputs": [
    {
     "data": {
      "text/plain": [
       "'Baseline'"
      ]
     },
     "execution_count": 8,
     "metadata": {},
     "output_type": "execute_result"
    }
   ],
   "source": [
    "recommendation.baseline = Baseline()\n",
    "recommendation.baseline"
   ]
  },
  {
   "cell_type": "markdown",
   "metadata": {},
   "source": [
    "Finally we have a set of attributes starting with `keeping_old`. It tells the recommender _not_ to filter out articles already purchased by the customer we are making a recommendation for but, on the contrary, to allow recommending them back to him/her if the algorithm says we should. To dial in this behavior of _The Recommender_ we call the attribute in a manner similar to the `using()` method."
   ]
  },
  {
   "cell_type": "code",
   "execution_count": 9,
   "metadata": {
    "collapsed": true
   },
   "outputs": [],
   "source": [
    "recommendation = recommendation.keeping_old"
   ]
  },
  {
   "cell_type": "markdown",
   "metadata": {},
   "source": [
    "If we wanted to know whether or not _only new_ articles will be recommended (as opposed to also articles that a given customer already bought), we simply inspect the `only_new` attribute."
   ]
  },
  {
   "cell_type": "code",
   "execution_count": 10,
   "metadata": {},
   "outputs": [
    {
     "data": {
      "text/plain": [
       "False"
      ]
     },
     "execution_count": 10,
     "metadata": {},
     "output_type": "execute_result"
    }
   ],
   "source": [
    "recommendation.only_new"
   ]
  },
  {
   "cell_type": "markdown",
   "metadata": {},
   "source": [
    "Evidently, it is now `False`. Finally, if we wanted to change the bahavior of _The Recommender_ to recommending only new articles, thus discarding already bought articles, we invoke the remaing attribute `pruning_old` like so:"
   ]
  },
  {
   "cell_type": "code",
   "execution_count": 11,
   "metadata": {},
   "outputs": [
    {
     "data": {
      "text/plain": [
       "True"
      ]
     },
     "execution_count": 11,
     "metadata": {},
     "output_type": "execute_result"
    }
   ],
   "source": [
    "recommendation = recommendation.pruning_old\n",
    "recommendation.only_new"
   ]
  },
  {
   "cell_type": "markdown",
   "metadata": {},
   "source": [
    "__NOTE__: You may wonder why the method `using()` and the attributes `keeping_old` as well as `pruning_old` are called in a somewhat odd fashion. The idea behind this is that you can chain all these calls together in a single, elegant line of code that almost reads like a sentence in natural language."
   ]
  },
  {
   "cell_type": "code",
   "execution_count": 12,
   "metadata": {
    "collapsed": true
   },
   "outputs": [],
   "source": [
    "recommendation = RecoBasedOn(data).using(algorithm).pruning_old"
   ]
  },
  {
   "cell_type": "markdown",
   "metadata": {},
   "source": [
    "And that's it with the parameters.\n",
    "\n",
    "### Making a recommendation for a target customer\n",
    "Surely you have already realized that also _The Recommender_ has a `for_one()` method, just like our algorithms. Indeed, it also provides recommendations for a given customer but, this time, in a much more convenient form. Specifically, it\n",
    "+ accepts a cutomer _ID_ rather than the internally used integer index as argument;\n",
    "+ sorts the articles by their score and returns only the top-most hits;\n",
    "+ allows us to specify how many of these we want to have;\n",
    "+ returns actual article *ID*s rather that just their internally used integer indices.\n",
    "\n",
    "More specifically, it returns a `python` generator, which needs to be consumed to actually access the recommended article IDs, like so:"
   ]
  },
  {
   "cell_type": "code",
   "execution_count": 13,
   "metadata": {},
   "outputs": [
    {
     "name": "stdout",
     "output_type": "stream",
     "text": [
      "JI388SP87HBCANID-41358\n",
      "AP082EL35CPWALID-1764\n",
      "BL152EL67KCUALID-6832\n",
      "SA848EL50XMNANID-34082\n",
      "BL232EL84TPFANID-31224\n",
      "CA189EL42IJPALID-5657\n"
     ]
    }
   ],
   "source": [
    "customer = '4'  # Now a string ID\n",
    "\n",
    "top_six = recommendation.for_one(customer, 6)\n",
    "for article in top_six:\n",
    "    print(article)"
   ]
  },
  {
   "cell_type": "markdown",
   "metadata": {},
   "source": [
    "And, voilà, your recommendation. Again, obvious misuse, like asking for more recommendations than there are articles, is discretely corrected. Try, for instance, the following request"
   ]
  },
  {
   "cell_type": "code",
   "execution_count": 14,
   "metadata": {
    "collapsed": true
   },
   "outputs": [],
   "source": [
    "all_articles = recommendation.for_one(customer, 8300)"
   ]
  },
  {
   "cell_type": "markdown",
   "metadata": {},
   "source": [
    "and all you get is an entry in the logfile.\n",
    "```\n",
    "[WARNING ]: Requested 8300 recommendations but only 8255 available. Returning all 8255. (recommender| ...\n",
    "```\n",
    "\n",
    "Thanks to the baseline, handling new customers is no problem."
   ]
  },
  {
   "cell_type": "code",
   "execution_count": 15,
   "metadata": {},
   "outputs": [
    {
     "name": "stdout",
     "output_type": "stream",
     "text": [
      "KI593EL69ASKANID-36520\n",
      "NE739EL06ORLANID-27491\n",
      "KI593EL68ASLANID-36521\n"
     ]
    }
   ],
   "source": [
    "newbie = 'new customer'\n",
    "\n",
    "top_three = recommendation.for_one(newbie, 3)\n",
    "for article in top_three:\n",
    "    print(article)"
   ]
  },
  {
   "cell_type": "markdown",
   "metadata": {},
   "source": [
    "Provided you set the logging level to 20 (meaning INFO), you will be notified of this feat with the message:\n",
    "```\n",
    "[INFO    ]: Unknown target user. Defaulting to baseline recommendation. (recommender|__cold_start)\n",
    "```\n",
    "\n",
    "\n",
    "### Tweaking the algorithm\n",
    "It is important to note that, if you wanted to change the parameters of the algorithm and get a new recommendation based on these new parameters, you can simply do so. You do _not_ need to instantiate a new `RecoBasedOn` object and _neither_ to you need to re-attach the changed algorithm to an existing `RecoBasedOn` instance. Nothing of that sort. Simply do"
   ]
  },
  {
   "cell_type": "code",
   "execution_count": 16,
   "metadata": {},
   "outputs": [
    {
     "name": "stdout",
     "output_type": "stream",
     "text": [
      "SO888EL87TSYANID-31328\n",
      "AP082EL25AQGANID-36440\n",
      "KI593EL68ASLANID-36521\n",
      "SO888EL88TSXANID-31327\n",
      "KI593EL69ASKANID-36520\n",
      "CA189EL61JZEALID-6738\n"
     ]
    }
   ],
   "source": [
    "algorithm.number_of_factors = 10\n",
    "\n",
    "top_six = recommendation.for_one(customer, 6)\n",
    "for article in top_six:\n",
    "    print(article)"
   ]
  },
  {
   "cell_type": "markdown",
   "metadata": {},
   "source": [
    "and witness how the recommended articles changed. This then concludes our presentation of _The Recommender_."
   ]
  },
  {
   "cell_type": "code",
   "execution_count": null,
   "metadata": {
    "collapsed": true
   },
   "outputs": [],
   "source": []
  }
 ],
 "metadata": {
  "kernelspec": {
   "display_name": "Python 3",
   "language": "python",
   "name": "python3"
  },
  "language_info": {
   "codemirror_mode": {
    "name": "ipython",
    "version": 3
   },
   "file_extension": ".py",
   "mimetype": "text/x-python",
   "name": "python",
   "nbconvert_exporter": "python",
   "pygments_lexer": "ipython3",
   "version": "3.6.0"
  }
 },
 "nbformat": 4,
 "nbformat_minor": 2
}
