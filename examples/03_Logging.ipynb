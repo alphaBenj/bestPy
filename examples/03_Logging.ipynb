{
 "cells": [
  {
   "cell_type": "markdown",
   "metadata": {},
   "source": [
    "# CHAPTER 3\n",
    "## Logging\n",
    "### Preliminaries\n",
    "We only need this because the examples folder is a subdirectory of the `bestPy` package."
   ]
  },
  {
   "cell_type": "code",
   "execution_count": 1,
   "metadata": {
    "collapsed": true
   },
   "outputs": [],
   "source": [
    "import sys\n",
    "sys.path.append('../..')"
   ]
  },
  {
   "cell_type": "markdown",
   "metadata": {},
   "source": [
    "### Import\n",
    "We are not going to actually recommend anything in the present chapter. We just want to take a closer look at the warnings issued when reading transaction data from CSV file in the last chapter 2. To recreate these warnings, all we need to import is `Transactions` from `bestPy.datastructures`."
   ]
  },
  {
   "cell_type": "code",
   "execution_count": 2,
   "metadata": {
    "collapsed": true
   },
   "outputs": [],
   "source": [
    "from bestPy.datastructures import Transactions"
   ]
  },
  {
   "cell_type": "markdown",
   "metadata": {},
   "source": [
    "### Read transaction data"
   ]
  },
  {
   "cell_type": "code",
   "execution_count": 3,
   "metadata": {},
   "outputs": [
    {
     "name": "stderr",
     "output_type": "stream",
     "text": [
      "WARNING:root:Could not interpret transaction on line 1. Skipping.\n",
      "WARNING:root:Could not interpret transaction on line 2. Skipping.\n"
     ]
    }
   ],
   "source": [
    "file = 'examples_data.csv'\n",
    "data = Transactions.from_csv(file)"
   ]
  },
  {
   "cell_type": "markdown",
   "metadata": {},
   "source": [
    "There they are again! While it is maybe helpful to have the warnings pop up like this in a `Jupyter` notbook, it is not clear how to benefit from this feature when writing a standalone `python` program or service. Also, having a lot of them might mess up your tidy notebook layout.\n",
    "\n",
    "In fact, these messages aren't intended to pop up in the `Jupyter` notebook at all! Rather, they are intended to be written to a logfile together with other information (as well as some warnings and errors while your are still experimenting with `bestPy`). We will make it best practice, then, to always enable `bestPy`s logging facilities before doing anything else. The logging function is conveniently accesible through the top-level package.\n",
    "```python\n",
    "from bestPy import write_log_to\n",
    "```\n",
    "Tab completion reveals that the `write_log_to()` function has two arguments. The first is the path to and name of the logfile to be written and the second is the logging level, which can have the following (integer) values:\n",
    "+ 10 ... debug\n",
    "+ 20 ... info\n",
    "+ 30 ... warning\n",
    "+ 40 ... error\n",
    "+ 50 ... critical\n",
    "\n",
    "Any event with a logging level lower than the one specified will not appear in the logfile. Let's try 20 for _info_ for now.\n",
    "\n",
    "To see how logging works in practice, you will first need to restart the Kernel of this `Jupyter` notebook (_Kernel --> Restart_). Then, we\n",
    "+ make again sure we have `bestPy` in our PYTHONPATH\n",
    "+ do our imports again\n",
    "+ intialize logging\n",
    "+ read transaction data again"
   ]
  },
  {
   "cell_type": "code",
   "execution_count": 1,
   "metadata": {},
   "outputs": [],
   "source": [
    "import sys\n",
    "sys.path.append('../..')\n",
    "\n",
    "from bestPy import write_log_to\n",
    "from bestPy.datastructures import Transactions\n",
    "\n",
    "logfile = 'logfile.txt'\n",
    "write_log_to(logfile, log_level=20)\n",
    "\n",
    "file = 'examples_data.csv'\n",
    "data = Transactions.from_csv(file)"
   ]
  },
  {
   "cell_type": "markdown",
   "metadata": {},
   "source": [
    "And, behold, the warning messages are gone. Instead, we now have a file named `logfile.txt` in the examples directory, which contains the two lines\n",
    "\n",
    "```\n",
    "[WARNING ]: Could not interpret transaction on line 1. Skipping. (from_csv|from_csv)\n",
    "[WARNING ]: Could not interpret transaction on line 2. Skipping. (from_csv|from_csv)\n",
    "```\n",
    "The first term in brackets indicates the severity of the logged event. This is followed by an explanatory message and, in parentheses, the names of the `python` module and the function that triggered the logging message. This helps you understand where things went wrong.\n",
    "\n",
    "The logging facilities of `bestPy` are quite extensive and informative, so whenever you're working with `bestPy`, it might be a good idea to have a terminal open on the side with a `tail -f` on the logfile just to stay ahead of things."
   ]
  },
  {
   "cell_type": "code",
   "execution_count": null,
   "metadata": {
    "collapsed": true
   },
   "outputs": [],
   "source": []
  }
 ],
 "metadata": {
  "kernelspec": {
   "display_name": "Python 3",
   "language": "python",
   "name": "python3"
  },
  "language_info": {
   "codemirror_mode": {
    "name": "ipython",
    "version": 3
   },
   "file_extension": ".py",
   "mimetype": "text/x-python",
   "name": "python",
   "nbconvert_exporter": "python",
   "pygments_lexer": "ipython3",
   "version": "3.6.0"
  }
 },
 "nbformat": 4,
 "nbformat_minor": 2
}
