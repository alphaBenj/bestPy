{
 "cells": [
  {
   "cell_type": "markdown",
   "metadata": {},
   "source": [
    "# CHAPTER 4\n",
    "## 4.2 Algorithms: Collaborative filtering\n",
    "Having understood the basics of how an algorithm is configured, married with data, and deployed in `bestPy`, we are now ready to move from a baseline recommendation to something more inolved. In particular, we are going to discuss the implementation and use of _collaborative filtering_ without, however, going too deep into the technical details of how the algorithm works.\n",
    "\n",
    "### Preliminaries\n",
    "We only need this because the examples folder is a subdirectory of the `bestPy` package."
   ]
  },
  {
   "cell_type": "code",
   "execution_count": 1,
   "metadata": {
    "collapsed": true
   },
   "outputs": [],
   "source": [
    "import sys\n",
    "sys.path.append('../..')"
   ]
  },
  {
   "cell_type": "markdown",
   "metadata": {},
   "source": [
    "### Imports, logging, and data\n",
    "On top of doing the things we already know, we now additionally import also the `CollaborativeFiltering` algorithm, which is, as should be obvious by now, accessible through the `bestPy.algorithms` subpackage."
   ]
  },
  {
   "cell_type": "code",
   "execution_count": 2,
   "metadata": {
    "collapsed": true
   },
   "outputs": [],
   "source": [
    "from bestPy import write_log_to\n",
    "from bestPy.datastructures import Transactions\n",
    "from bestPy.algorithms import Baseline, CollaborativeFiltering  # Additionally import CollaborativeFiltering\n",
    "\n",
    "logfile = 'logfile.txt'\n",
    "write_log_to(logfile, 20)\n",
    "\n",
    "file = 'examples_data.csv'\n",
    "data = Transactions.from_csv(file)"
   ]
  },
  {
   "cell_type": "markdown",
   "metadata": {},
   "source": [
    "### Creating a new `CollaborativeFiltering` object with data\n",
    "Again, this is as straightforward as you would expect. This time, we will attach the data to the algorithm right away."
   ]
  },
  {
   "cell_type": "code",
   "execution_count": 3,
   "metadata": {},
   "outputs": [
    {
     "data": {
      "text/plain": [
       "True"
      ]
     },
     "execution_count": 3,
     "metadata": {},
     "output_type": "execute_result"
    }
   ],
   "source": [
    "recommendation = CollaborativeFiltering().operating_on(data)\n",
    "recommendation.has_data"
   ]
  },
  {
   "cell_type": "markdown",
   "metadata": {},
   "source": [
    "### Parameters of the collaborative filtering algorithm\n",
    "\n",
    "Inspecting the new `recommendation` object with Tab completion again reveals `binarize` as a first attribute."
   ]
  },
  {
   "cell_type": "code",
   "execution_count": 4,
   "metadata": {},
   "outputs": [
    {
     "data": {
      "text/plain": [
       "True"
      ]
     },
     "execution_count": 4,
     "metadata": {},
     "output_type": "execute_result"
    }
   ],
   "source": [
    "recommendation.binarize"
   ]
  },
  {
   "cell_type": "markdown",
   "metadata": {},
   "source": [
    "It has the same meaning as in the baseline recommendation: `True` means we only care whether or not a customer bought an article and `False` means we also take into account how often a customer bought an article.\n",
    "\n",
    "Speaking about baseline, you will notice that the `recommendation` object we just created actually has an attribute `baseline`."
   ]
  },
  {
   "cell_type": "code",
   "execution_count": 5,
   "metadata": {},
   "outputs": [
    {
     "data": {
      "text/plain": [
       "'Baseline'"
      ]
     },
     "execution_count": 5,
     "metadata": {},
     "output_type": "execute_result"
    }
   ],
   "source": [
    "recommendation.baseline"
   ]
  },
  {
   "cell_type": "markdown",
   "metadata": {},
   "source": [
    "Indeed, collaborative filtering cannot necessarily provide recommendations for _all_ customers. Specifically, it fails to do so if the customer in question only bought articles that no other customer has bought. For these cases, we need a fallback solution, which is provided by the algorithm specified through the `baseline` attribute. As you can see, that algorithm is currently a `Baseline` instance. We could, of course, also provide the baseline algorithm manually. "
   ]
  },
  {
   "cell_type": "code",
   "execution_count": 6,
   "metadata": {},
   "outputs": [
    {
     "data": {
      "text/plain": [
       "'Baseline'"
      ]
     },
     "execution_count": 6,
     "metadata": {},
     "output_type": "execute_result"
    }
   ],
   "source": [
    "recommendation.baseline = Baseline()\n",
    "recommendation.baseline"
   ]
  },
  {
   "cell_type": "markdown",
   "metadata": {},
   "source": [
    "More about that later. There is one more paramter to be explored first."
   ]
  },
  {
   "cell_type": "code",
   "execution_count": 7,
   "metadata": {},
   "outputs": [
    {
     "data": {
      "text/plain": [
       "'kulsinski'"
      ]
     },
     "execution_count": 7,
     "metadata": {},
     "output_type": "execute_result"
    }
   ],
   "source": [
    "recommendation.similarity"
   ]
  },
  {
   "cell_type": "markdown",
   "metadata": {},
   "source": [
    "In short, collaborative filtering (as it is implemented in `bestPy`) works by recommending articles that are most similar to the articles the target customer has already bought. What exactly _similar_ means, however, is not set in stone and quite a few similarity measures are available.\n",
    "+ _Dice_ (`dice`)\n",
    "+ _Jaccard_ (`jaccard`)\n",
    "+ _Kulsinksi_ (`kulsinski`)\n",
    "+ _Sokal-Sneath_ (`sokalsneath`)\n",
    "+ _Russell-Rao_ (`russellrao`)\n",
    "+ _cosine_ (`cosine`)\n",
    "+ _binary cosine_ (`cosine_binary`)\n",
    "\n",
    "In the last option, we recognize again our concept of _binarize_ where, to compute the cosine similarity between two articles, we do not count _how often_ they have been bought by any particular user but only _if_ they have been bought.\n",
    "\n",
    "It is not obvious which similarity measure is best in which case, so some experimentation is required. If we want to set the similarity to something other than the default choice of `kulsinski`, we have to import what we need from the logically located subsubpackage."
   ]
  },
  {
   "cell_type": "code",
   "execution_count": 8,
   "metadata": {},
   "outputs": [
    {
     "data": {
      "text/plain": [
       "'dice'"
      ]
     },
     "execution_count": 8,
     "metadata": {},
     "output_type": "execute_result"
    }
   ],
   "source": [
    "from bestPy.algorithms.similarities import dice, jaccard, sokalsneath, russellrao, cosine, cosine_binary\n",
    "\n",
    "recommendation.similarity = dice\n",
    "recommendation.similarity"
   ]
  },
  {
   "cell_type": "markdown",
   "metadata": {},
   "source": [
    "And that's it for the parameters of the collaborative filtering algorithm.\n",
    "\n",
    "### Making a recommendation for a target customer\n",
    "Now that everything is set up and we have data attached to the algorithm, its `for_one()` method is available and can be called with the internal integer index of the target customer as argument."
   ]
  },
  {
   "cell_type": "code",
   "execution_count": 9,
   "metadata": {},
   "outputs": [
    {
     "data": {
      "text/plain": [
       "array([ 0.        ,  0.69444444,  2.62288862, ...,  0.        ,\n",
       "        0.        ,  0.        ])"
      ]
     },
     "execution_count": 9,
     "metadata": {},
     "output_type": "execute_result"
    }
   ],
   "source": [
    "customer = data.user.index_of['5']\n",
    "recommendation.for_one(customer)"
   ]
  },
  {
   "cell_type": "markdown",
   "metadata": {},
   "source": [
    "And, voilà, your recommendation. Again, a higher number means that the article with the same index as that number is more highly recommended for the target customer.\n",
    "\n",
    "To appreciate the necessity for this fallback solution, we try to get a recommendation for the customer with ID '4' next."
   ]
  },
  {
   "cell_type": "code",
   "execution_count": 10,
   "metadata": {},
   "outputs": [
    {
     "data": {
      "text/plain": [
       "array([ 1.,  1.,  8., ...,  1.,  1.,  1.])"
      ]
     },
     "execution_count": 10,
     "metadata": {},
     "output_type": "execute_result"
    }
   ],
   "source": [
    "customer = data.user.index_of['4']\n",
    "recommendation.for_one(customer)"
   ]
  },
  {
   "cell_type": "markdown",
   "metadata": {},
   "source": [
    "Checking your logfile, you will now see the additional line:\n",
    "```\n",
    "[INFO]: Uncomparable user with ID 4. Returning baseline recommendation. (collaborativefiltering|__for_one)\n",
    "```\n",
    "As you try different users, you will notice that, due to the sparsity of the data, this happens more often than you'd think. Good thing we have a customer-agnostic baseline and a logging facility that let's us know when it's used."
   ]
  },
  {
   "cell_type": "code",
   "execution_count": null,
   "metadata": {
    "collapsed": true
   },
   "outputs": [],
   "source": []
  }
 ],
 "metadata": {
  "kernelspec": {
   "display_name": "Python 3",
   "language": "python",
   "name": "python3"
  },
  "language_info": {
   "codemirror_mode": {
    "name": "ipython",
    "version": 3
   },
   "file_extension": ".py",
   "mimetype": "text/x-python",
   "name": "python",
   "nbconvert_exporter": "python",
   "pygments_lexer": "ipython3",
   "version": "3.6.0"
  }
 },
 "nbformat": 4,
 "nbformat_minor": 2
}
