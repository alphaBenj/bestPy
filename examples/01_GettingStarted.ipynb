{
 "cells": [
  {
   "cell_type": "markdown",
   "metadata": {},
   "source": [
    "# CHAPTER 1\n",
    "## Getting Started\n",
    "### Preliminaries\n",
    "We only need this because the examples folder is a subdirectory of the `bestPy` package."
   ]
  },
  {
   "cell_type": "code",
   "execution_count": 1,
   "metadata": {},
   "outputs": [],
   "source": [
    "import sys\n",
    "sys.path.append('../..')"
   ]
  },
  {
   "cell_type": "markdown",
   "metadata": {},
   "source": [
    "### Minimal imports"
   ]
  },
  {
   "cell_type": "code",
   "execution_count": 2,
   "metadata": {},
   "outputs": [],
   "source": [
    "from bestPy import RecoBasedOn\n",
    "from bestPy.datastructures import Transactions"
   ]
  },
  {
   "cell_type": "markdown",
   "metadata": {},
   "source": [
    "### Read data\n",
    "Specify your own data file or play with the examples file"
   ]
  },
  {
   "cell_type": "code",
   "execution_count": 3,
   "metadata": {
    "collapsed": true
   },
   "outputs": [],
   "source": [
    "file = 'examples_data.csv'  # Enter the path to and name of your data ile here!\n",
    "data = Transactions.from_csv(file)"
   ]
  },
  {
   "cell_type": "markdown",
   "metadata": {},
   "source": [
    "### Recommend articles\n",
    "Specify below the ID of the customer you want to make recommendations for"
   ]
  },
  {
   "cell_type": "code",
   "execution_count": 4,
   "metadata": {},
   "outputs": [
    {
     "name": "stdout",
     "output_type": "stream",
     "text": [
      "PH789EL55DMEALID-2344\n",
      "BE129EL00TOPANID-31206\n",
      "AD429EL53ESWANID-39525\n",
      "TD401EL26ZTDANID-35758\n",
      "HP467EL91AAIALID-8\n"
     ]
    }
   ],
   "source": [
    "customer = '46'  # Specify the ID of the customer you want to make recommendations for here!\n",
    "\n",
    "recommendation = RecoBasedOn(data)\n",
    "top_five = recommendation.for_one(customer)\n",
    "\n",
    "for article in top_five:\n",
    "    print(article)"
   ]
  },
  {
   "cell_type": "markdown",
   "metadata": {},
   "source": [
    "That wasn't too hard, now, was it?"
   ]
  },
  {
   "cell_type": "code",
   "execution_count": null,
   "metadata": {
    "collapsed": true
   },
   "outputs": [],
   "source": []
  }
 ],
 "metadata": {
  "kernelspec": {
   "display_name": "Python 3",
   "language": "python",
   "name": "python3"
  },
  "language_info": {
   "codemirror_mode": {
    "name": "ipython",
    "version": 3
   },
   "file_extension": ".py",
   "mimetype": "text/x-python",
   "name": "python",
   "nbconvert_exporter": "python",
   "pygments_lexer": "ipython3",
   "version": "3.6.0"
  }
 },
 "nbformat": 4,
 "nbformat_minor": 2
}
